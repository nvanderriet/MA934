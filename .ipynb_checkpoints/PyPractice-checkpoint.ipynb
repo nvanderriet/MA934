{
 "cells": [
  {
   "cell_type": "code",
   "execution_count": 1,
   "id": "c4a77c82-8354-4b30-bf1b-38bb9c13c6d3",
   "metadata": {},
   "outputs": [],
   "source": [
    "import numpy as np"
   ]
  },
  {
   "cell_type": "code",
   "execution_count": 2,
   "id": "223654c7-ae35-4f13-b06a-847a8701fb34",
   "metadata": {},
   "outputs": [],
   "source": [
    "A = np.random.randint(10,size = (10,10))\n",
    "# print(A)\n",
    "U = np.triu(A)\n",
    "# print(U)\n",
    "b = np.random.randint(10,size = 10)\n",
    "# x = np.zeros(10)\n",
    "# print(x)"
   ]
  },
  {
   "cell_type": "code",
   "execution_count": 3,
   "id": "5b5b847b-b271-42a7-a0e6-570c5af03547",
   "metadata": {},
   "outputs": [],
   "source": [
    "def bwsub(U,b):\n",
    "    x = np.zeros(len(b))\n",
    "    x[-1] = b[-1]/U[-1,-1]\n",
    "    # print(x)\n",
    "    "
   ]
  },
  {
   "cell_type": "code",
   "execution_count": 4,
   "id": "c8df5e30-406b-44a0-8a8b-d48f2ce0f376",
   "metadata": {},
   "outputs": [
    {
     "name": "stdout",
     "output_type": "stream",
     "text": [
      "[0.  0.  0.  0.  0.  0.  0.  0.  0.  1.8]\n"
     ]
    }
   ],
   "source": [
    "bwsub(U,b)"
   ]
  },
  {
   "cell_type": "code",
   "execution_count": null,
   "id": "a9e021cb-2fa0-46bc-a7aa-f66e351f597e",
   "metadata": {},
   "outputs": [],
   "source": []
  }
 ],
 "metadata": {
  "kernelspec": {
   "display_name": "Python 3 (ipykernel)",
   "language": "python",
   "name": "python3"
  },
  "language_info": {
   "codemirror_mode": {
    "name": "ipython",
    "version": 3
   },
   "file_extension": ".py",
   "mimetype": "text/x-python",
   "name": "python",
   "nbconvert_exporter": "python",
   "pygments_lexer": "ipython3",
   "version": "3.7.13"
  }
 },
 "nbformat": 4,
 "nbformat_minor": 5
}
