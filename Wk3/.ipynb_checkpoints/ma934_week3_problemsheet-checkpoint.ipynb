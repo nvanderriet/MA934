{
 "cells": [
  {
   "cell_type": "markdown",
   "metadata": {},
   "source": [
    "# MA934 - class 3\n",
    "\n",
    "The problems below give you a chance to practice some of the concepts we learned about in week 2 (while you were busy working on the assessed worksheet), with a focus on the finite difference method (FDM)."
   ]
  },
  {
   "cell_type": "markdown",
   "metadata": {},
   "source": [
    "## Task 1 - getting up to speed\n",
    "\n",
    "In case you have not done so already, please consult the Jupyter notebook on finite difference approximations from Week 2. You can find it [here](https://warwick.ac.uk/fac/sci/mathsys/courses/msc/ma934/resources/ma934_week2_2_finitedifferences.ipynb). Both standard tests and convergence studies will be useful in what follows."
   ]
  },
  {
   "cell_type": "markdown",
   "metadata": {},
   "source": [
    "## Task 2 - FDM in the real world\n",
    "\n",
    "A problem to rekindle our love for physics. Our inital motivation for studying derivative approximation is (partly) grounded in solving real-world problems (in true MathSys spirit). Such an example is provided by solving a variation of the **beam deflection problem**, sketched below (see Chapra, Steven C., and Raymond P. Canale. Numerical methods for Engineers. Vol. 1221. New York: McGraw-Hill, 2011 for details):\n",
    "\n",
    "<img src=\"MA934_Week3_Beam.png\" alt=\"array\" style=\"width: 600px;\"/>  \n",
    "\n",
    "\n",
    "We need to define the following parameters (with some sensible starting values in brackets):\n",
    " * $E$ is the modulus of elasticity ($200$ GPa),\n",
    " * $I$ is the moment of inertia ($30000$ cm$^4$),\n",
    " * $w$ is the applied load ($15$ kN/m),\n",
    " * $L$ is the length of the beam ($3$ m).\n",
    " \n",
    "With the above in mind, we want to solve the differential equation\n",
    "$$EI \\dfrac{d^2 y}{dx^2} = \\dfrac{wLx}{2} - \\dfrac{w}{x^2}.$$\n",
    " \n",
    "Note: you may notice the units above being quite different. Converting everything to a common reference system (e.g. SI units) is highly encouraged (and part of the problem!).\n",
    "\n",
    "Here is a suggested solution strategy:\n",
    "1. Before starting to implement a numerical solution, can you find an analytical solution to the problem to serve as reference result?\n",
    "2. What finite difference approximation strategy would you use and why? Write down the solution and implement it once you have given it some thought.\n",
    "3. Analyse the obtained behaviour and consider varying $h$ (or $\\Delta x$) from just a handful of points to a refined solution."
   ]
  },
  {
   "cell_type": "markdown",
   "metadata": {},
   "source": [
    "## Task 3 - different species of FDM\n",
    "\n",
    "During the lectures we have explored the quality of different approximation methods using simple PDE examples. In particular we have considered schemes such as:\n",
    " * FTFS and FTBS (forward time forward space and forward time backward space)\n",
    " * FTCS (forward time central space)\n",
    " * Upwinding\n",
    " \n",
    "Using the _advection equation_ for function $u(x,t)$ as your primary example\n",
    "$$u_t + c u_x = 0 \\textrm{  with  } u(x,t=0) = f(x)$$\n",
    "and periodic boundary conditions in space, explore the performance of the techniques above. You may choose a smooth function like a localised Gaussian pulse as an initial condition, i.e. $f(x) = -\\exp(x^2/2)$ with $-16 \\leq x \\leq 16$ as sufficiently wide support for the function to decay by the time it reaches the boundaries, but you are encouraged to explore what happens with less friendly initial conditions should you have time.\n",
    "\n",
    "More concretely:\n",
    " * Implement each scheme (ideally starting from a reasonably simple method) and conduct preliminary verifications by checking your solution qualitatively.\n",
    " * Use the seaborn package to plot an animation of your solution (see the first Jupyter notebook in Week 3 for an example).\n",
    " * Conduct a convergence study by varying your timestep and spatial step. Think about how you select these (and consult the provided resources).\n",
    " * Interpret and comment on your results.\n",
    " \n",
    "Enjoy!"
   ]
  },
  {
   "cell_type": "code",
   "execution_count": null,
   "metadata": {},
   "outputs": [],
   "source": []
  }
 ],
 "metadata": {
  "kernelspec": {
   "display_name": "Julia 1.8.2",
   "language": "julia",
   "name": "julia-1.8"
  },
  "language_info": {
   "file_extension": ".jl",
   "mimetype": "application/julia",
   "name": "julia",
   "version": "1.8.2"
  }
 },
 "nbformat": 4,
 "nbformat_minor": 2
}
