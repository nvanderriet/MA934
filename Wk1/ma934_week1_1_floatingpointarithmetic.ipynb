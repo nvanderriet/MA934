{
 "cells": [
  {
   "cell_type": "code",
   "execution_count": 1,
   "metadata": {
    "slideshow": {
     "slide_type": "skip"
    }
   },
   "outputs": [],
   "source": [
    "# Set up environment and import packages\n",
    "import numpy as np\n",
    "import math\n",
    "import struct"
   ]
  },
  {
   "cell_type": "markdown",
   "metadata": {
    "slideshow": {
     "slide_type": "slide"
    }
   },
   "source": [
    "## MA934\n",
    "\n",
    "## Floating point arithmetic\n",
    "\n",
    "### How computers approximate arithmetic"
   ]
  },
  {
   "cell_type": "markdown",
   "metadata": {
    "cell_style": "split",
    "slideshow": {
     "slide_type": "slide"
    }
   },
   "source": [
    "### Representation of unsigned integers\n",
    "\n",
    "Binary representation of (3 bit) integers:\n",
    "$$ b_2b_1b_0 = b_2\\,2^2 + b_1\\,2^1 + b_0\\,2^0 $$\n",
    "\n",
    "Finite maximum and minimum integers.\n",
    "Modern computers use 64 bits but smaller (and larger) integer types can often be accommodated for depending on the programming language of choice.\n",
    "\n",
    "Here are the unsigned integer types:\n",
    "\n"
   ]
  },
  {
   "cell_type": "markdown",
   "metadata": {
    "cell_style": "split"
   },
   "source": [
    "|Type |Bits |Minimum |Maximum |\n",
    "|:- |--- | --- |---|\n",
    "|UInt8 | 8 |0 | $2^8 - 1$|\n",
    "|UInt16 | 16 |0 | $2^{16} - 1$|\n",
    "|UInt32 | 32 |0 | $2^{32} - 1$|\n",
    "|UInt64 | 64 |0 | $2^{64} - 1$|"
   ]
  },
  {
   "cell_type": "markdown",
   "metadata": {
    "cell_style": "split",
    "slideshow": {
     "slide_type": "slide"
    }
   },
   "source": [
    "### Representation of signed integers : two's complement\n",
    "The negative of $x>0$ is encoded using *two's complement*,\n",
    "\n",
    "> $\\overline{x}$ = flip all bits of $x$ and add 1.\n",
    "\n",
    "Example:  \n",
    "6 = 00000110,  \n",
    "$\\overline{6}$ = 11111001 + 1 = 11111010 "
   ]
  },
  {
   "cell_type": "markdown",
   "metadata": {
    "cell_style": "split"
   },
   "source": [
    "Signed integer types in Python:\n",
    "\n",
    "|Type |Bits |Minimum |Maximum |\n",
    "|:- |--- | --- |---|\n",
    "|int8 | 8 |$-2^7$ | $2^7 - 1$|\n",
    "|int16 | 16 |$-2^{15}$ | $2^{15} - 1$|\n",
    "|int32 | 32 |$-2^{31}$ | $2^{31} - 1$|\n",
    "|int64 | 64 |$-2^{63}$ | $2^{63} - 1$|\n",
    "\n",
    "You should (in time) become comfortable with checking documentation and pages such as the [docs.python.org](https://docs.python.org/3/library/stdtypes.html) pages and [other resources](https://data-apis.org/array-api/latest/API_specification/data_types.html)."
   ]
  },
  {
   "cell_type": "markdown",
   "metadata": {
    "cell_style": "center",
    "slideshow": {
     "slide_type": "slide"
    }
   },
   "source": [
    "### Advantages of two's complement \n",
    "\n",
    "Why not just use a \"sign\" bit?\n",
    "* Avoids two representations of zero.\n",
    "* Subtraction can be performed using the same hardware as addition:\n",
    "> Subtraction of y from x : add  two's complement of y to x and drop leading (\"overflow\") bit.\n",
    "\n",
    "* Example: $7 - 6 = 7 + \\overline{6}$ =  (check) "
   ]
  },
  {
   "cell_type": "markdown",
   "metadata": {
    "cell_style": "split",
    "slideshow": {
     "slide_type": "slide"
    }
   },
   "source": [
    "### Representation of real numbers\n",
    "\n",
    "Use a binary version of *normalised* scientific notation:\n",
    "$ x = -1^S \\times  (1.0+0.M) \\times 2^E $\n",
    "\n",
    "e.g. IEEE 754 32-bit (Float32): \n",
    "\n",
    "|Field |Size|Bits |\n",
    "| :-- | :-: | :-: |\n",
    "| Sign (S) | 1 | 31 |\n",
    "| Exponent (E + 127) | 8 | 23 - 30 |\n",
    "| Mantissa (M) | 23 | 0 - 22 |"
   ]
  },
  {
   "cell_type": "markdown",
   "metadata": {
    "cell_style": "split",
    "slideshow": {
     "slide_type": "-"
    }
   },
   "source": [
    "\"Bias\": if exponent is $E$, we store E+127 (for Float32).  This makes comparisons easier..\n",
    "\n",
    "![Float32](files/images/590px-Float_example.png)\n"
   ]
  },
  {
   "cell_type": "code",
   "execution_count": 2,
   "metadata": {
    "cell_style": "split",
    "slideshow": {
     "slide_type": "-"
    }
   },
   "outputs": [
    {
     "name": "stdout",
     "output_type": "stream",
     "text": [
      "<class 'int'>\n",
      "<class 'float'>\n",
      "1100100\n",
      "0000000001100100\n"
     ]
    }
   ],
   "source": [
    "x1 = 2\n",
    "print(type(x1))\n",
    "\n",
    "x2 = 20.1\n",
    "print(type(x2))\n",
    "\n",
    "# Hint: have a look at Python datatypes and in particular at the 'float32' 'and float64' datatypes\n",
    "\n",
    "# We can also see our data as binary strings, either in compact form ...\n",
    "x3 = 100\n",
    "binary3 = \"{0:b}\".format(x3)\n",
    "print(binary3)\n",
    "\n",
    "# or with a pre-specified precision\n",
    "binary4 = '{0:016b}'.format(x3)\n",
    "print(binary4)"
   ]
  },
  {
   "cell_type": "markdown",
   "metadata": {
    "cell_style": "split",
    "slideshow": {
     "slide_type": "slide"
    }
   },
   "source": [
    "### Round-off error\n",
    "\n",
    "* Finite mantissae introduce errors when truncating real numbers whose binary expansion is longer than 23 (Float32) or 52 (Float64).\n",
    "* Round-off error is a feature of the hardware and cannot be avoided."
   ]
  },
  {
   "cell_type": "code",
   "execution_count": 3,
   "metadata": {
    "cell_style": "split"
   },
   "outputs": [
    {
     "name": "stdout",
     "output_type": "stream",
     "text": [
      "a = 1.0000000000000001e-01 b = 2.0000000000000001e-01 c = 2.9999999999999999e-01\n"
     ]
    }
   ],
   "source": [
    "a = np.float64(0.1);\n",
    "b = np.float64(0.2);\n",
    "c = np.float64(0.3);\n",
    "\n",
    "print('a = %.16e' % a, 'b = %.16e' % b, 'c = %.16e' % c)"
   ]
  },
  {
   "cell_type": "markdown",
   "metadata": {
    "cell_style": "split"
   },
   "source": [
    "This can lead to counter-intuitive behaviour:"
   ]
  },
  {
   "cell_type": "code",
   "execution_count": 4,
   "metadata": {
    "cell_style": "split"
   },
   "outputs": [
    {
     "data": {
      "text/plain": [
       "False"
      ]
     },
     "execution_count": 4,
     "metadata": {},
     "output_type": "execute_result"
    }
   ],
   "source": [
    "a + b == c"
   ]
  },
  {
   "cell_type": "markdown",
   "metadata": {
    "cell_style": "center",
    "slideshow": {
     "slide_type": "slide"
    }
   },
   "source": [
    "### Floating point arithmetic\n",
    "\n",
    "Rules for adding two floating point numbers:\n",
    "\n",
    "1. Rewrite the smaller number so its exponent matches that of the larger number.\n",
    "2. Add the mantissae.\n",
    "3. Normalise the sum.\n",
    "4. Round the sum.\n",
    "\n"
   ]
  },
  {
   "cell_type": "markdown",
   "metadata": {
    "slideshow": {
     "slide_type": "slide"
    }
   },
   "source": [
    "### Machine precision  "
   ]
  },
  {
   "cell_type": "code",
   "execution_count": 5,
   "metadata": {
    "cell_style": "center"
   },
   "outputs": [
    {
     "name": "stdout",
     "output_type": "stream",
     "text": [
      "False\n",
      "False\n",
      "True\n"
     ]
    },
    {
     "data": {
      "text/plain": [
       "1.000000013351432e+22"
      ]
     },
     "execution_count": 5,
     "metadata": {},
     "output_type": "execute_result"
    }
   ],
   "source": [
    "a = np.float32(1.0); \n",
    "b = np.float32(pow(10.0,-10));\n",
    "\n",
    "print(a == 0)\n",
    "print(b == 0)\n",
    "print((a+b) == a)\n",
    "\n",
    "b*pow(10.0, 32)"
   ]
  },
  {
   "cell_type": "markdown",
   "metadata": {},
   "source": [
    "The *machine precision* (or *machine epsilon*) is the smallest floating point number which when added to 1 gives an answer larger than one."
   ]
  },
  {
   "cell_type": "markdown",
   "metadata": {
    "slideshow": {
     "slide_type": "slide"
    }
   },
   "source": [
    "### Machine precision\n",
    "\n",
    "In Python ``.eps`` gives the machine precision:"
   ]
  },
  {
   "cell_type": "code",
   "execution_count": 6,
   "metadata": {},
   "outputs": [
    {
     "name": "stdout",
     "output_type": "stream",
     "text": [
      "1.1920929e-07\n",
      "2.220446049250313e-16\n"
     ]
    }
   ],
   "source": [
    "print(np.finfo(np.float32).eps)\n",
    "print(np.finfo(np.float64).eps)"
   ]
  },
  {
   "cell_type": "markdown",
   "metadata": {},
   "source": [
    "These values are $2.0^{-23}$ and $2.0^{-52}$, respectively."
   ]
  },
  {
   "cell_type": "markdown",
   "metadata": {
    "slideshow": {
     "slide_type": "slide"
    }
   },
   "source": [
    "### Loss of significance\n",
    "Subtraction of \"nearby\" numbers leads to loss of precision.\n",
    "\n",
    "Calculate sum and difference of 2 nearby numbers in 32-bit precision:"
   ]
  },
  {
   "cell_type": "code",
   "execution_count": 7,
   "metadata": {},
   "outputs": [
    {
     "name": "stdout",
     "output_type": "stream",
     "text": [
      "32 bit: a =  2.000001907348633 b =  2.0\n",
      "32 bit: sum =  4.000001907348633 diff =  1.9073486328125e-06\n"
     ]
    }
   ],
   "source": [
    "# Interestingly - single precision is not actually supported in Python in earnest, see:\n",
    "# https://python-reference.readthedocs.io/en/latest/docs/float/\n",
    "\n",
    "a32o = np.float32(2.0) + pow(np.float32(3.0),-12.0); \n",
    "b32o = np.float32(2.0);\n",
    "\n",
    "a32 = struct.unpack('f', struct.pack('f', a32o))[0];\n",
    "b32 = struct.unpack('f', struct.pack('f', b32o))[0];\n",
    "\n",
    "sum32 = a32 + b32;\n",
    "diff32 = a32 - b32;\n",
    "\n",
    "print('32 bit: a = ', a32, 'b = ', b32)\n",
    "print('32 bit: sum = ', sum32, 'diff = ', diff32)"
   ]
  },
  {
   "cell_type": "markdown",
   "metadata": {
    "slideshow": {
     "slide_type": "slide"
    }
   },
   "source": [
    "### Loss of significance\n",
    "\n",
    "Now calculate the same sum and difference in 64 bit precision:"
   ]
  },
  {
   "cell_type": "code",
   "execution_count": 8,
   "metadata": {},
   "outputs": [
    {
     "name": "stdout",
     "output_type": "stream",
     "text": [
      "64 bit: a =  2.000001881676423 b =  2.0\n",
      "64 bit: sum =  4.000001881676424 diff =  1.8816764231210925e-06\n"
     ]
    }
   ],
   "source": [
    "a64 = np.float64(2.0) + pow(np.float64(3.0),-12.0); \n",
    "b64 = np.float64(2.0);\n",
    "\n",
    "sum64 = a64 + b64;\n",
    "diff64 = a64 - b64;\n",
    "\n",
    "print('64 bit: a = ', a64, 'b = ', b64)\n",
    "print('64 bit: sum = ', sum64, 'diff = ', diff64)"
   ]
  },
  {
   "cell_type": "markdown",
   "metadata": {
    "slideshow": {
     "slide_type": "slide"
    }
   },
   "source": [
    "### Loss of significance\n",
    "\n",
    "We can treat the 64 bit answer as \"exact\" compared to the 32 bit answer and calculate the relative error in the 32 bit result:"
   ]
  },
  {
   "cell_type": "code",
   "execution_count": 9,
   "metadata": {},
   "outputs": [
    {
     "name": "stdout",
     "output_type": "stream",
     "text": [
      "Sum relative error =  6.41804929265656e-09\n",
      "Difference relative error =  0.013643264790885564\n"
     ]
    }
   ],
   "source": [
    "relErrSum = abs(sum64 - sum32)/sum64;\n",
    "relErrDiff = abs(diff64 - diff32)/diff64;\n",
    "print('Sum relative error = ', relErrSum)\n",
    "print('Difference relative error = ', relErrDiff)"
   ]
  },
  {
   "cell_type": "markdown",
   "metadata": {
    "slideshow": {
     "slide_type": "slide"
    }
   },
   "source": [
    "### Numerical instability\n",
    "\n",
    "Iterative calculations can lose precision by accumulation of round-off error:\n",
    "\n",
    "* Assuming inputs $\\sim 1$, each FP addition introduces an error of $\\sim \\epsilon_m$.\n",
    "* Might expect, after $n$ iterative steps, total error $\\sim \\sqrt{n}\\, \\epsilon_m$?\n",
    "\n",
    "However, some iterations can produce total error $\\sim e^n$ due to *instability*."
   ]
  },
  {
   "cell_type": "markdown",
   "metadata": {
    "slideshow": {
     "slide_type": "slide"
    }
   },
   "source": [
    "### Numerical instability: simple example\n",
    "\n",
    "Consider the following iterative procedures:\n",
    "\n",
    "P1 : $a_{n+1} = \\phi\\,a_n$ with $a_0 = 1$,  \n",
    "\n",
    "P2 : $a_{n+1} = a_{n-1} - a_{n}$ with $a_0 = 1$ and $a_1 = \\phi$,\n",
    "\n",
    "where $\\phi = (\\sqrt{5}-1)/2$.\n",
    "\n",
    "Both have the exact solution (check): \n",
    "$$a_n = \\phi^n.$$"
   ]
  },
  {
   "cell_type": "markdown",
   "metadata": {
    "slideshow": {
     "slide_type": "slide"
    }
   },
   "source": [
    "### Numerical instability: simple example\n",
    "\n",
    "However their numerical behaviour is very different for large $n$:"
   ]
  },
  {
   "cell_type": "code",
   "execution_count": 18,
   "metadata": {},
   "outputs": [],
   "source": [
    "phi = np.float64(0.5*(math.sqrt(5.)-1.)); \n",
    "n = 70;\n",
    "\n",
    "# Allocate some arrays\n",
    "P1 = [np.float64(0.0)] * n;\n",
    "P2 = [np.float64(0.0)] * n;\n",
    "\n",
    "# Set initial conditions\n",
    "P1[0] = P2[0] = np.float64(1.); \n",
    "P2[1] = phi;\n",
    "\n",
    "# Note that indexing for lists start from 0 in Python!"
   ]
  },
  {
   "cell_type": "code",
   "execution_count": 19,
   "metadata": {},
   "outputs": [],
   "source": [
    "for i in range(1, n):\n",
    "    P1[i] = phi*P1[i-1]"
   ]
  },
  {
   "cell_type": "code",
   "execution_count": 20,
   "metadata": {},
   "outputs": [],
   "source": [
    "for i in range(2, n):\n",
    "    P2[i] = P2[i-2] - P2[i-1]"
   ]
  },
  {
   "cell_type": "markdown",
   "metadata": {
    "slideshow": {
     "slide_type": "slide"
    }
   },
   "source": [
    "### Numerical instability: simple example"
   ]
  },
  {
   "cell_type": "code",
   "execution_count": 22,
   "metadata": {
    "slideshow": {
     "slide_type": "-"
    }
   },
   "outputs": [
    {
     "data": {
      "image/png": "[encoded data removed]",
      "text/plain": [
       "<Figure size 864x576 with 1 Axes>"
      ]
     },
     "metadata": {
      "needs_background": "light"
     },
     "output_type": "display_data"
    }
   ],
   "source": [
    "import matplotlib.pyplot as plt\n",
    "plt.rcParams['text.usetex'] = True\n",
    "plt.rcParams.update({'font.size': 22})\n",
    "\n",
    "plt.figure(figsize=(12, 8))\n",
    "\n",
    "l1 = plt.semilogy(list(range(1,n+1)), P1, \"-ks\", label=r\"$P_1$\", markersize=10, markerfacecolor=(0, 0.447, 0.741, 1))\n",
    "l2 = plt.semilogy(list(range(1,n+1)), P2, \"-ko\", label=r\"$P_2$\", markersize=8, markerfacecolor=(0.85, 0.325, 0.098, 1))\n",
    "\n",
    "plt.legend(loc=\"lower left\")\n",
    "\n",
    "plt.xlabel(r\"$n$\")\n",
    "plt.ylabel(r\"$\\left| a_n \\right|$\")\n",
    "plt.xlim([0, 70])\n",
    "plt.ylim([1e-8, 1e1])\n",
    "plt.grid()\n",
    "plt.show()"
   ]
  },
  {
   "cell_type": "markdown",
   "metadata": {
    "slideshow": {
     "slide_type": "slide"
    }
   },
   "source": [
    "### Numerical instability: simple example\n",
    "\n",
    "What's going on? Due to round-off we have solved a different problem:\n",
    "\n",
    "P2 : $a_{n+1} = a_{n-1} - a_{n}$ with $a_0 = 1$ and $a_1 = \\phi + \\varepsilon$.\n",
    "\n",
    "The solution is\n",
    "$$ a_n = \\left(1 + \\frac{\\varepsilon}{\\sqrt{5}}\\right)\\,\\phi^n  - \\frac{\\varepsilon}{\\sqrt{5}}\\, \\tilde{\\phi}^n,$$\n",
    "where $\\tilde{\\phi} = (-\\sqrt{5}-1)/2$.  \n",
    "Notice that $\\left|\\tilde{\\phi}\\right| > 1$. This is an unstable iteration."
   ]
  },
  {
   "cell_type": "code",
   "execution_count": null,
   "metadata": {},
   "outputs": [],
   "source": []
  }
 ],
 "metadata": {
  "celltoolbar": "Slideshow",
  "kernelspec": {
   "display_name": "Python 3 (ipykernel)",
   "language": "python",
   "name": "python3"
  },
  "language_info": {
   "codemirror_mode": {
    "name": "ipython",
    "version": 3
   },
   "file_extension": ".py",
   "mimetype": "text/x-python",
   "name": "python",
   "nbconvert_exporter": "python",
   "pygments_lexer": "ipython3",
   "version": "3.9.12"
  }
 },
 "nbformat": 4,
 "nbformat_minor": 4
}
