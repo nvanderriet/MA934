{
 "cells": [
  {
   "cell_type": "markdown",
   "metadata": {
    "slideshow": {
     "slide_type": "slide"
    }
   },
   "source": [
    "# MA934 - Numerical algorithms and optimisation\n",
    "\n",
    "## Lecturer: Radu Cimpeanu\n",
    "\n",
    "Email: __[Radu.Cimpeanu@warwick.ac.uk](mailto:Radu.Cimpeanu@warwick.ac.uk)__\n",
    "\n",
    "### Graduate Teaching Assistant: Oscar Holroyd\n",
    "\n",
    "Email: __[O.Holroyd@warwick.ac.uk](mailto:O.Holroyd@warwick.ac.uk)__\n",
    "\n",
    "______________________________________________________\n",
    "\n",
    "__[Module web page](https://warwick.ac.uk/fac/sci/mathsys/courses/msc/ma934/resources/)__\n",
    "\n"
   ]
  },
  {
   "cell_type": "markdown",
   "metadata": {
    "slideshow": {
     "slide_type": "slide"
    }
   },
   "source": [
    "### Lecture and class times\n",
    "**Lectures**  \n",
    "* Mondays 10:00 - 12:00 UK time in D1.07 (Complexity Seminar Room, Zeeman Building) \n",
    "* Tuesdays 10:00 - 12:00 UK time in D1.07 (Complexity Seminar Room, Zeeman Building)\n",
    "\n",
    "**Classes**  \n",
    "* Mondays 13:00 - 15:00 UK time in D1.07 (Complexity Seminar Room, Zeeman Building)\n",
    "* Tuesdays 13:00 - 15:00 UK time in D1.07 (Complexity Seminar Room, Zeeman Building)\n",
    "\n"
   ]
  },
  {
   "cell_type": "markdown",
   "metadata": {
    "slideshow": {
     "slide_type": "slide"
    }
   },
   "source": [
    "### Assessment\n",
    "\n",
    "Oral examination (40%)\n",
    "\n",
    "Written class test (40%)\n",
    "\n",
    "Coursework (20%) - 2 graded assignments\n"
   ]
  },
  {
   "cell_type": "markdown",
   "metadata": {
    "slideshow": {
     "slide_type": "slide"
    }
   },
   "source": [
    "### Deadlines\n",
    "\n",
    "| item | Deadline |\n",
    "|-:-|-:-|\n",
    "|Assignment 1 | 12:00 noon (UK time) on Thursday 20 October.|\n",
    "|Assignment 2 | 12:00 noon (UK time) on Thursday 3 November |\n",
    "|Class test  | 10:00-12:30 (UK time) on Monday 31 October.|\n",
    "|Oral examinations | Tuesday 1 November.|"
   ]
  },
  {
   "cell_type": "markdown",
   "metadata": {
    "slideshow": {
     "slide_type": "slide"
    }
   },
   "source": [
    "### Software\n",
    "\n",
    "* MS Teams for communication outside lecture and classes\n",
    "* Python\n",
    "* Anaconda + Jupyter Notebooks\n",
    "* (optional but encouraged for assignment editing) LaTeX\n",
    "* (optional) git and an account on github (__[https://github.com/](https://github.com/)__)\n",
    "\n",
    "### Communication\n",
    "* MSTeams : __[Link to MA934 Team](https://teams.microsoft.com/l/team/19%3aGDrgE4k0iskaRucfpwmCrG-Qbb9UYpZEj_lnBwsWgNg1%40thread.tacv2/conversations?groupId=2aab997a-c840-44a4-8214-b9cc0f388e04&tenantId=09bacfbd-47ef-4465-9265-3546f2eaf6bc)__"
   ]
  },
  {
   "cell_type": "code",
   "execution_count": null,
   "metadata": {},
   "outputs": [],
   "source": []
  }
 ],
 "metadata": {
  "celltoolbar": "Slideshow",
  "kernelspec": {
   "display_name": "Python 3 (ipykernel)",
   "language": "python",
   "name": "python3"
  },
  "language_info": {
   "codemirror_mode": {
    "name": "ipython",
    "version": 3
   },
   "file_extension": ".py",
   "mimetype": "text/x-python",
   "name": "python",
   "nbconvert_exporter": "python",
   "pygments_lexer": "ipython3",
   "version": "3.9.12"
  }
 },
 "nbformat": 4,
 "nbformat_minor": 4
}
