{
 "cells": [
  {
   "cell_type": "markdown",
   "id": "b8b7dd1e-8b8a-4b3c-908f-acb70c5d257b",
   "metadata": {
    "tags": []
   },
   "source": [
    "# MA394 Problem Sheet 2"
   ]
  },
  {
   "cell_type": "code",
   "execution_count": 1,
   "id": "5e94f3c9-2e8a-458e-a256-6c1f87a9939d",
   "metadata": {},
   "outputs": [],
   "source": [
    "import numpy as np\n",
    "import matplotlib.pyplot as plt\n",
    "import random"
   ]
  },
  {
   "cell_type": "markdown",
   "id": "69d872be-19d5-4e33-ab43-4eb15c3945db",
   "metadata": {
    "jp-MarkdownHeadingCollapsed": true,
    "tags": []
   },
   "source": [
    "## Task 1 - Insertion Sort (test insert too)"
   ]
  },
  {
   "cell_type": "markdown",
   "id": "9d5e0c2a-c52a-47f2-a24f-f0e70d0a1519",
   "metadata": {},
   "source": [
    "To begin I shall provide an implementation of shell sort, both because I coded it up last week and would hate for it to go to waste and because (of course) insertion sort is a specific case of shell sort. For this implementation we use the suggested sequence $$Q = \\lbrace \\left(3^i-1\\right)/2 : i=i_{max}, i_{max}-1, \\dots, 2, 1 \\rbrace .$$\n",
    "To do insert sort _if you must_ we provide an optional parameter."
   ]
  },
  {
   "cell_type": "code",
   "execution_count": 330,
   "id": "f6249621-f2c7-4d7b-9ac6-f2ed73e0e3f5",
   "metadata": {},
   "outputs": [],
   "source": [
    "# This function takes as an input an (unsorted) *NUMPY ARRAY*, l, of real \n",
    "# numbers and outputs a sorted one. This can sort lists of order 2^16 in \n",
    "# roughly 10s. To do boring old insert sort set the optional parameter\n",
    "# insert = \"yes\". This is VERY slow. It will sort 2^12 in a comparable time\n",
    "# as shell does 2^16\n",
    "\n",
    "def shellsort(l,insert = \"no\"):\n",
    "\n",
    "    n = len(l) # The length of the list\n",
    "    \n",
    "    if insert == \"yes\":\n",
    "        Qs = np.array([1])\n",
    "    else:\n",
    "        # First we calculate i_max\n",
    "        iimax = np.floor(np.log(n-1)/np.log(3)).astype(int)\n",
    "        # Then we generate the linear sequence from i_max to 1\n",
    "        iis = np.linspace(1,iimax,iimax)\n",
    "        iis = np.flip(iis).astype(int)\n",
    "        # Then we generate (and print) the sequence of Q values that we will use\n",
    "        Qs = (0.5*(np.power(3,iis)-1)).astype(int)\n",
    "        print(\"Q values\", Qs) \n",
    "\n",
    "    # Now we execute the algorithm \n",
    "    for q in Qs: # Going through the levels of refinery\n",
    "        for m in range(q): # And the respective subsequences\n",
    "            for k in range(np.floor(n/q).astype(int)): # The indicies of \n",
    "                # the subsequence in question\n",
    "                for j in range(k): # To compare to the already sorted\n",
    "                    if l[q*(k-j)-m]>=l[q*(k-j-1)-m]:\n",
    "                        break # break if we are greater than OR equal to the\n",
    "                        # next sorted element\n",
    "                    else:\n",
    "                        l[[q*(k-j)-m, q*(k-j-1)-m]]=l[[q*(k-j-1)-m, q*(k-j)-m]]\n",
    "                        # otherwise switch round the two elements and continue\n",
    "                        # to compare\n",
    "\n",
    "                    \n",
    "                    \n",
    "    return(l)"
   ]
  },
  {
   "cell_type": "markdown",
   "id": "2f695e98-2c4f-495d-a8ee-d9053d379539",
   "metadata": {},
   "source": [
    "### Now to test this algorithm on some lists"
   ]
  },
  {
   "cell_type": "markdown",
   "id": "b4f83879-18e0-44cb-852e-9fdc316d15c3",
   "metadata": {},
   "source": [
    "To begin, a random one that takes real values both positive and negative."
   ]
  },
  {
   "cell_type": "code",
   "execution_count": 336,
   "id": "858dbe95-dd42-417a-b87d-cfbd1ac8dcdf",
   "metadata": {},
   "outputs": [
    {
     "name": "stdout",
     "output_type": "stream",
     "text": [
      "Q values [1093  364  121   40   13    4    1]\n"
     ]
    },
    {
     "data": {
      "text/plain": [
       "array([[-0.49995134],\n",
       "       [-0.49985456],\n",
       "       [-0.49958478],\n",
       "       ...,\n",
       "       [ 0.49915736],\n",
       "       [ 0.49963728],\n",
       "       [ 0.49998682]])"
      ]
     },
     "execution_count": 336,
     "metadata": {},
     "output_type": "execute_result"
    }
   ],
   "source": [
    "l = np.random.rand(np.power(2,12),1)-0.5\n",
    "shellsort(l)"
   ]
  },
  {
   "cell_type": "markdown",
   "id": "73f29106-aabc-458d-b591-39d607f4f9ba",
   "metadata": {},
   "source": [
    "Next, some \"tricky\" scenarios"
   ]
  },
  {
   "cell_type": "code",
   "execution_count": 4,
   "id": "c1dd6650-f07c-4fb9-81f2-547fc689b1d4",
   "metadata": {},
   "outputs": [
    {
     "name": "stdout",
     "output_type": "stream",
     "text": [
      "Q values [4 1]\n"
     ]
    },
    {
     "data": {
      "text/plain": [
       "array([[0.],\n",
       "       [0.],\n",
       "       [0.],\n",
       "       [0.],\n",
       "       [0.],\n",
       "       [0.],\n",
       "       [0.],\n",
       "       [0.],\n",
       "       [0.],\n",
       "       [0.]])"
      ]
     },
     "execution_count": 4,
     "metadata": {},
     "output_type": "execute_result"
    }
   ],
   "source": [
    "# All zeros\n",
    "l = np.zeros((10,1))\n",
    "shellsort(l)"
   ]
  },
  {
   "cell_type": "code",
   "execution_count": 5,
   "id": "28070c0e-1efb-459b-8bd1-e283e7d6dbb1",
   "metadata": {},
   "outputs": [
    {
     "name": "stdout",
     "output_type": "stream",
     "text": [
      "Q values [4 1]\n"
     ]
    },
    {
     "data": {
      "text/plain": [
       "array([ 0.,  1.,  2.,  3.,  4.,  5.,  6.,  7.,  8.,  9., 10., 11., 12.])"
      ]
     },
     "execution_count": 5,
     "metadata": {},
     "output_type": "execute_result"
    }
   ],
   "source": [
    "# Already in order\n",
    "l = np.linspace(0,12,13)\n",
    "shellsort(l)"
   ]
  },
  {
   "cell_type": "code",
   "execution_count": 6,
   "id": "ef5ad0e2-aa3b-46f6-9506-7ecc293ff6ce",
   "metadata": {},
   "outputs": [
    {
     "name": "stdout",
     "output_type": "stream",
     "text": [
      "Q values [4 1]\n"
     ]
    },
    {
     "data": {
      "text/plain": [
       "array([ 0.,  1.,  2.,  3.,  4.,  5.,  6.,  7.,  8.,  9., 10., 11., 12.])"
      ]
     },
     "execution_count": 6,
     "metadata": {},
     "output_type": "execute_result"
    }
   ],
   "source": [
    "# Worst case scenario\n",
    "l = np.linspace(0,12,13)\n",
    "l = np.flip(l)\n",
    "shellsort(l)"
   ]
  },
  {
   "cell_type": "markdown",
   "id": "f3113dbd-baa1-43f9-b601-9159f8d191fc",
   "metadata": {
    "jp-MarkdownHeadingCollapsed": true,
    "tags": []
   },
   "source": [
    "## Task 2 - Mergesort"
   ]
  },
  {
   "cell_type": "markdown",
   "id": "567a2fcd-ceb9-4690-9753-cd33bec7f0b5",
   "metadata": {},
   "source": [
    "This feels like plagiarism, but equally it is what you've asked us to do so- voila, your mergesort algorithm (I'll comment it just in case). This runs on the pyton list thingys as opposed to the numpy arrays."
   ]
  },
  {
   "cell_type": "code",
   "execution_count": 7,
   "id": "650656f3-34b6-4018-97b1-13e57cdbdce5",
   "metadata": {},
   "outputs": [],
   "source": [
    "def interlace(list1, list2):\n",
    "    alist = []\n",
    "    # base cases\n",
    "    if (len(list1) == 0): \n",
    "        return list2\n",
    "    elif (len(list2) == 0):\n",
    "        return list1\n",
    "    # recursive steps, add the lower elt to alist\n",
    "    elif list1[0] < list2[0]:\n",
    "        alist.append(list1[0]) \n",
    "        return alist + interlace(list1[1:], list2)\n",
    "    else:\n",
    "        alist.append(list2[0])\n",
    "        return alist + interlace(list1, list2[1:])"
   ]
  },
  {
   "cell_type": "code",
   "execution_count": 8,
   "id": "b4c63a05-3c25-4514-b779-83a38053c122",
   "metadata": {},
   "outputs": [],
   "source": [
    "def mergeSort(A):\n",
    "    n=len(A)\n",
    "    if n == 1:\n",
    "        return A # an array of length 1 is already sorted\n",
    "    else:\n",
    "        m=n//2\n",
    "    return interlace(mergeSort(A[0:m]), mergeSort(A[m:n]))"
   ]
  },
  {
   "cell_type": "markdown",
   "id": "23954adf-b553-4195-8213-886f7b0edf9d",
   "metadata": {},
   "source": [
    "### Now to test it"
   ]
  },
  {
   "cell_type": "markdown",
   "id": "2ebd4cae-b5e7-4ec8-978a-f4ed3ad59d21",
   "metadata": {},
   "source": [
    "Simple random case"
   ]
  },
  {
   "cell_type": "code",
   "execution_count": 9,
   "id": "7a407d26-2997-4a15-ae94-651cd74ad7d5",
   "metadata": {},
   "outputs": [
    {
     "data": {
      "text/plain": [
       "[8, 20, 32, 50, 51, 55, 133, 135, 172, 195]"
      ]
     },
     "execution_count": 9,
     "metadata": {},
     "output_type": "execute_result"
    }
   ],
   "source": [
    "A = random.sample(range(1,200),10)\n",
    "mergeSort(A)"
   ]
  },
  {
   "cell_type": "markdown",
   "id": "1b791053-cf23-4448-8ba7-1b54e9f6d0b6",
   "metadata": {},
   "source": [
    "Now with replacement and negative numbers "
   ]
  },
  {
   "cell_type": "code",
   "execution_count": 10,
   "id": "fbb68c1b-b092-46cc-861f-f9bc23dbd643",
   "metadata": {},
   "outputs": [
    {
     "data": {
      "text/plain": [
       "[-5, -5, -4, -4, -4, -3, -2, -2, -2, -2, -2, -1, -1, -1, -1, -1, 0, 2, 4, 4]"
      ]
     },
     "execution_count": 10,
     "metadata": {},
     "output_type": "execute_result"
    }
   ],
   "source": [
    "A = random.choices(range(-5,5), weights=None, cum_weights=None, k=20)\n",
    "mergeSort(A)"
   ]
  },
  {
   "cell_type": "markdown",
   "id": "f23e3441-bfd3-4a9e-b4d2-af31db1c570e",
   "metadata": {},
   "source": [
    "Big random case"
   ]
  },
  {
   "cell_type": "code",
   "execution_count": 11,
   "id": "a4694029-ef5c-4916-84ea-ed61f4909c52",
   "metadata": {},
   "outputs": [
    {
     "ename": "RecursionError",
     "evalue": "maximum recursion depth exceeded while calling a Python object",
     "output_type": "error",
     "traceback": [
      "\u001b[0;31m---------------------------------------------------------------------------\u001b[0m",
      "\u001b[0;31mRecursionError\u001b[0m                            Traceback (most recent call last)",
      "\u001b[0;32m/tmp/ipykernel_178603/3544860937.py\u001b[0m in \u001b[0;36m<module>\u001b[0;34m\u001b[0m\n\u001b[1;32m      1\u001b[0m \u001b[0mA\u001b[0m \u001b[0;34m=\u001b[0m \u001b[0mrandom\u001b[0m\u001b[0;34m.\u001b[0m\u001b[0msample\u001b[0m\u001b[0;34m(\u001b[0m\u001b[0mrange\u001b[0m\u001b[0;34m(\u001b[0m\u001b[0;36m1\u001b[0m\u001b[0;34m,\u001b[0m\u001b[0mnp\u001b[0m\u001b[0;34m.\u001b[0m\u001b[0mpower\u001b[0m\u001b[0;34m(\u001b[0m\u001b[0;36m2\u001b[0m\u001b[0;34m,\u001b[0m\u001b[0;36m14\u001b[0m\u001b[0;34m)\u001b[0m\u001b[0;34m)\u001b[0m\u001b[0;34m,\u001b[0m\u001b[0mnp\u001b[0m\u001b[0;34m.\u001b[0m\u001b[0mpower\u001b[0m\u001b[0;34m(\u001b[0m\u001b[0;36m2\u001b[0m\u001b[0;34m,\u001b[0m\u001b[0;36m13\u001b[0m\u001b[0;34m)\u001b[0m\u001b[0;34m)\u001b[0m\u001b[0;34m\u001b[0m\u001b[0;34m\u001b[0m\u001b[0m\n\u001b[0;32m----> 2\u001b[0;31m \u001b[0mmergeSort\u001b[0m\u001b[0;34m(\u001b[0m\u001b[0mA\u001b[0m\u001b[0;34m)\u001b[0m\u001b[0;34m\u001b[0m\u001b[0;34m\u001b[0m\u001b[0m\n\u001b[0m",
      "\u001b[0;32m/tmp/ipykernel_178603/4059924005.py\u001b[0m in \u001b[0;36mmergeSort\u001b[0;34m(A)\u001b[0m\n\u001b[1;32m      5\u001b[0m     \u001b[0;32melse\u001b[0m\u001b[0;34m:\u001b[0m\u001b[0;34m\u001b[0m\u001b[0;34m\u001b[0m\u001b[0m\n\u001b[1;32m      6\u001b[0m         \u001b[0mm\u001b[0m\u001b[0;34m=\u001b[0m\u001b[0mn\u001b[0m\u001b[0;34m//\u001b[0m\u001b[0;36m2\u001b[0m\u001b[0;34m\u001b[0m\u001b[0;34m\u001b[0m\u001b[0m\n\u001b[0;32m----> 7\u001b[0;31m     \u001b[0;32mreturn\u001b[0m \u001b[0minterlace\u001b[0m\u001b[0;34m(\u001b[0m\u001b[0mmergeSort\u001b[0m\u001b[0;34m(\u001b[0m\u001b[0mA\u001b[0m\u001b[0;34m[\u001b[0m\u001b[0;36m0\u001b[0m\u001b[0;34m:\u001b[0m\u001b[0mm\u001b[0m\u001b[0;34m]\u001b[0m\u001b[0;34m)\u001b[0m\u001b[0;34m,\u001b[0m \u001b[0mmergeSort\u001b[0m\u001b[0;34m(\u001b[0m\u001b[0mA\u001b[0m\u001b[0;34m[\u001b[0m\u001b[0mm\u001b[0m\u001b[0;34m:\u001b[0m\u001b[0mn\u001b[0m\u001b[0;34m]\u001b[0m\u001b[0;34m)\u001b[0m\u001b[0;34m)\u001b[0m\u001b[0;34m\u001b[0m\u001b[0;34m\u001b[0m\u001b[0m\n\u001b[0m",
      "\u001b[0;32m/tmp/ipykernel_178603/4059924005.py\u001b[0m in \u001b[0;36mmergeSort\u001b[0;34m(A)\u001b[0m\n\u001b[1;32m      5\u001b[0m     \u001b[0;32melse\u001b[0m\u001b[0;34m:\u001b[0m\u001b[0;34m\u001b[0m\u001b[0;34m\u001b[0m\u001b[0m\n\u001b[1;32m      6\u001b[0m         \u001b[0mm\u001b[0m\u001b[0;34m=\u001b[0m\u001b[0mn\u001b[0m\u001b[0;34m//\u001b[0m\u001b[0;36m2\u001b[0m\u001b[0;34m\u001b[0m\u001b[0;34m\u001b[0m\u001b[0m\n\u001b[0;32m----> 7\u001b[0;31m     \u001b[0;32mreturn\u001b[0m \u001b[0minterlace\u001b[0m\u001b[0;34m(\u001b[0m\u001b[0mmergeSort\u001b[0m\u001b[0;34m(\u001b[0m\u001b[0mA\u001b[0m\u001b[0;34m[\u001b[0m\u001b[0;36m0\u001b[0m\u001b[0;34m:\u001b[0m\u001b[0mm\u001b[0m\u001b[0;34m]\u001b[0m\u001b[0;34m)\u001b[0m\u001b[0;34m,\u001b[0m \u001b[0mmergeSort\u001b[0m\u001b[0;34m(\u001b[0m\u001b[0mA\u001b[0m\u001b[0;34m[\u001b[0m\u001b[0mm\u001b[0m\u001b[0;34m:\u001b[0m\u001b[0mn\u001b[0m\u001b[0;34m]\u001b[0m\u001b[0;34m)\u001b[0m\u001b[0;34m)\u001b[0m\u001b[0;34m\u001b[0m\u001b[0;34m\u001b[0m\u001b[0m\n\u001b[0m",
      "\u001b[0;32m/tmp/ipykernel_178603/1589338801.py\u001b[0m in \u001b[0;36minterlace\u001b[0;34m(list1, list2)\u001b[0m\n\u001b[1;32m      9\u001b[0m     \u001b[0;32melif\u001b[0m \u001b[0mlist1\u001b[0m\u001b[0;34m[\u001b[0m\u001b[0;36m0\u001b[0m\u001b[0;34m]\u001b[0m \u001b[0;34m<\u001b[0m \u001b[0mlist2\u001b[0m\u001b[0;34m[\u001b[0m\u001b[0;36m0\u001b[0m\u001b[0;34m]\u001b[0m\u001b[0;34m:\u001b[0m\u001b[0;34m\u001b[0m\u001b[0;34m\u001b[0m\u001b[0m\n\u001b[1;32m     10\u001b[0m         \u001b[0malist\u001b[0m\u001b[0;34m.\u001b[0m\u001b[0mappend\u001b[0m\u001b[0;34m(\u001b[0m\u001b[0mlist1\u001b[0m\u001b[0;34m[\u001b[0m\u001b[0;36m0\u001b[0m\u001b[0;34m]\u001b[0m\u001b[0;34m)\u001b[0m\u001b[0;34m\u001b[0m\u001b[0;34m\u001b[0m\u001b[0m\n\u001b[0;32m---> 11\u001b[0;31m         \u001b[0;32mreturn\u001b[0m \u001b[0malist\u001b[0m \u001b[0;34m+\u001b[0m \u001b[0minterlace\u001b[0m\u001b[0;34m(\u001b[0m\u001b[0mlist1\u001b[0m\u001b[0;34m[\u001b[0m\u001b[0;36m1\u001b[0m\u001b[0;34m:\u001b[0m\u001b[0;34m]\u001b[0m\u001b[0;34m,\u001b[0m \u001b[0mlist2\u001b[0m\u001b[0;34m)\u001b[0m\u001b[0;34m\u001b[0m\u001b[0;34m\u001b[0m\u001b[0m\n\u001b[0m\u001b[1;32m     12\u001b[0m     \u001b[0;32melse\u001b[0m\u001b[0;34m:\u001b[0m\u001b[0;34m\u001b[0m\u001b[0;34m\u001b[0m\u001b[0m\n\u001b[1;32m     13\u001b[0m         \u001b[0malist\u001b[0m\u001b[0;34m.\u001b[0m\u001b[0mappend\u001b[0m\u001b[0;34m(\u001b[0m\u001b[0mlist2\u001b[0m\u001b[0;34m[\u001b[0m\u001b[0;36m0\u001b[0m\u001b[0;34m]\u001b[0m\u001b[0;34m)\u001b[0m\u001b[0;34m\u001b[0m\u001b[0;34m\u001b[0m\u001b[0m\n",
      "\u001b[0;32m/tmp/ipykernel_178603/1589338801.py\u001b[0m in \u001b[0;36minterlace\u001b[0;34m(list1, list2)\u001b[0m\n\u001b[1;32m     12\u001b[0m     \u001b[0;32melse\u001b[0m\u001b[0;34m:\u001b[0m\u001b[0;34m\u001b[0m\u001b[0;34m\u001b[0m\u001b[0m\n\u001b[1;32m     13\u001b[0m         \u001b[0malist\u001b[0m\u001b[0;34m.\u001b[0m\u001b[0mappend\u001b[0m\u001b[0;34m(\u001b[0m\u001b[0mlist2\u001b[0m\u001b[0;34m[\u001b[0m\u001b[0;36m0\u001b[0m\u001b[0;34m]\u001b[0m\u001b[0;34m)\u001b[0m\u001b[0;34m\u001b[0m\u001b[0;34m\u001b[0m\u001b[0m\n\u001b[0;32m---> 14\u001b[0;31m         \u001b[0;32mreturn\u001b[0m \u001b[0malist\u001b[0m \u001b[0;34m+\u001b[0m \u001b[0minterlace\u001b[0m\u001b[0;34m(\u001b[0m\u001b[0mlist1\u001b[0m\u001b[0;34m,\u001b[0m \u001b[0mlist2\u001b[0m\u001b[0;34m[\u001b[0m\u001b[0;36m1\u001b[0m\u001b[0;34m:\u001b[0m\u001b[0;34m]\u001b[0m\u001b[0;34m)\u001b[0m\u001b[0;34m\u001b[0m\u001b[0;34m\u001b[0m\u001b[0m\n\u001b[0m",
      "\u001b[0;32m/tmp/ipykernel_178603/1589338801.py\u001b[0m in \u001b[0;36minterlace\u001b[0;34m(list1, list2)\u001b[0m\n\u001b[1;32m     12\u001b[0m     \u001b[0;32melse\u001b[0m\u001b[0;34m:\u001b[0m\u001b[0;34m\u001b[0m\u001b[0;34m\u001b[0m\u001b[0m\n\u001b[1;32m     13\u001b[0m         \u001b[0malist\u001b[0m\u001b[0;34m.\u001b[0m\u001b[0mappend\u001b[0m\u001b[0;34m(\u001b[0m\u001b[0mlist2\u001b[0m\u001b[0;34m[\u001b[0m\u001b[0;36m0\u001b[0m\u001b[0;34m]\u001b[0m\u001b[0;34m)\u001b[0m\u001b[0;34m\u001b[0m\u001b[0;34m\u001b[0m\u001b[0m\n\u001b[0;32m---> 14\u001b[0;31m         \u001b[0;32mreturn\u001b[0m \u001b[0malist\u001b[0m \u001b[0;34m+\u001b[0m \u001b[0minterlace\u001b[0m\u001b[0;34m(\u001b[0m\u001b[0mlist1\u001b[0m\u001b[0;34m,\u001b[0m \u001b[0mlist2\u001b[0m\u001b[0;34m[\u001b[0m\u001b[0;36m1\u001b[0m\u001b[0;34m:\u001b[0m\u001b[0;34m]\u001b[0m\u001b[0;34m)\u001b[0m\u001b[0;34m\u001b[0m\u001b[0;34m\u001b[0m\u001b[0m\n\u001b[0m",
      "\u001b[0;32m/tmp/ipykernel_178603/1589338801.py\u001b[0m in \u001b[0;36minterlace\u001b[0;34m(list1, list2)\u001b[0m\n\u001b[1;32m     12\u001b[0m     \u001b[0;32melse\u001b[0m\u001b[0;34m:\u001b[0m\u001b[0;34m\u001b[0m\u001b[0;34m\u001b[0m\u001b[0m\n\u001b[1;32m     13\u001b[0m         \u001b[0malist\u001b[0m\u001b[0;34m.\u001b[0m\u001b[0mappend\u001b[0m\u001b[0;34m(\u001b[0m\u001b[0mlist2\u001b[0m\u001b[0;34m[\u001b[0m\u001b[0;36m0\u001b[0m\u001b[0;34m]\u001b[0m\u001b[0;34m)\u001b[0m\u001b[0;34m\u001b[0m\u001b[0;34m\u001b[0m\u001b[0m\n\u001b[0;32m---> 14\u001b[0;31m         \u001b[0;32mreturn\u001b[0m \u001b[0malist\u001b[0m \u001b[0;34m+\u001b[0m \u001b[0minterlace\u001b[0m\u001b[0;34m(\u001b[0m\u001b[0mlist1\u001b[0m\u001b[0;34m,\u001b[0m \u001b[0mlist2\u001b[0m\u001b[0;34m[\u001b[0m\u001b[0;36m1\u001b[0m\u001b[0;34m:\u001b[0m\u001b[0;34m]\u001b[0m\u001b[0;34m)\u001b[0m\u001b[0;34m\u001b[0m\u001b[0;34m\u001b[0m\u001b[0m\n\u001b[0m",
      "\u001b[0;32m/tmp/ipykernel_178603/1589338801.py\u001b[0m in \u001b[0;36minterlace\u001b[0;34m(list1, list2)\u001b[0m\n\u001b[1;32m      9\u001b[0m     \u001b[0;32melif\u001b[0m \u001b[0mlist1\u001b[0m\u001b[0;34m[\u001b[0m\u001b[0;36m0\u001b[0m\u001b[0;34m]\u001b[0m \u001b[0;34m<\u001b[0m \u001b[0mlist2\u001b[0m\u001b[0;34m[\u001b[0m\u001b[0;36m0\u001b[0m\u001b[0;34m]\u001b[0m\u001b[0;34m:\u001b[0m\u001b[0;34m\u001b[0m\u001b[0;34m\u001b[0m\u001b[0m\n\u001b[1;32m     10\u001b[0m         \u001b[0malist\u001b[0m\u001b[0;34m.\u001b[0m\u001b[0mappend\u001b[0m\u001b[0;34m(\u001b[0m\u001b[0mlist1\u001b[0m\u001b[0;34m[\u001b[0m\u001b[0;36m0\u001b[0m\u001b[0;34m]\u001b[0m\u001b[0;34m)\u001b[0m\u001b[0;34m\u001b[0m\u001b[0;34m\u001b[0m\u001b[0m\n\u001b[0;32m---> 11\u001b[0;31m         \u001b[0;32mreturn\u001b[0m \u001b[0malist\u001b[0m \u001b[0;34m+\u001b[0m \u001b[0minterlace\u001b[0m\u001b[0;34m(\u001b[0m\u001b[0mlist1\u001b[0m\u001b[0;34m[\u001b[0m\u001b[0;36m1\u001b[0m\u001b[0;34m:\u001b[0m\u001b[0;34m]\u001b[0m\u001b[0;34m,\u001b[0m \u001b[0mlist2\u001b[0m\u001b[0;34m)\u001b[0m\u001b[0;34m\u001b[0m\u001b[0;34m\u001b[0m\u001b[0m\n\u001b[0m\u001b[1;32m     12\u001b[0m     \u001b[0;32melse\u001b[0m\u001b[0;34m:\u001b[0m\u001b[0;34m\u001b[0m\u001b[0;34m\u001b[0m\u001b[0m\n\u001b[1;32m     13\u001b[0m         \u001b[0malist\u001b[0m\u001b[0;34m.\u001b[0m\u001b[0mappend\u001b[0m\u001b[0;34m(\u001b[0m\u001b[0mlist2\u001b[0m\u001b[0;34m[\u001b[0m\u001b[0;36m0\u001b[0m\u001b[0;34m]\u001b[0m\u001b[0;34m)\u001b[0m\u001b[0;34m\u001b[0m\u001b[0;34m\u001b[0m\u001b[0m\n",
      "\u001b[0;32m/tmp/ipykernel_178603/1589338801.py\u001b[0m in \u001b[0;36minterlace\u001b[0;34m(list1, list2)\u001b[0m\n\u001b[1;32m     12\u001b[0m     \u001b[0;32melse\u001b[0m\u001b[0;34m:\u001b[0m\u001b[0;34m\u001b[0m\u001b[0;34m\u001b[0m\u001b[0m\n\u001b[1;32m     13\u001b[0m         \u001b[0malist\u001b[0m\u001b[0;34m.\u001b[0m\u001b[0mappend\u001b[0m\u001b[0;34m(\u001b[0m\u001b[0mlist2\u001b[0m\u001b[0;34m[\u001b[0m\u001b[0;36m0\u001b[0m\u001b[0;34m]\u001b[0m\u001b[0;34m)\u001b[0m\u001b[0;34m\u001b[0m\u001b[0;34m\u001b[0m\u001b[0m\n\u001b[0;32m---> 14\u001b[0;31m         \u001b[0;32mreturn\u001b[0m \u001b[0malist\u001b[0m \u001b[0;34m+\u001b[0m \u001b[0minterlace\u001b[0m\u001b[0;34m(\u001b[0m\u001b[0mlist1\u001b[0m\u001b[0;34m,\u001b[0m \u001b[0mlist2\u001b[0m\u001b[0;34m[\u001b[0m\u001b[0;36m1\u001b[0m\u001b[0;34m:\u001b[0m\u001b[0;34m]\u001b[0m\u001b[0;34m)\u001b[0m\u001b[0;34m\u001b[0m\u001b[0;34m\u001b[0m\u001b[0m\n\u001b[0m",
      "\u001b[0;32m/tmp/ipykernel_178603/1589338801.py\u001b[0m in \u001b[0;36minterlace\u001b[0;34m(list1, list2)\u001b[0m\n\u001b[1;32m     12\u001b[0m     \u001b[0;32melse\u001b[0m\u001b[0;34m:\u001b[0m\u001b[0;34m\u001b[0m\u001b[0;34m\u001b[0m\u001b[0m\n\u001b[1;32m     13\u001b[0m         \u001b[0malist\u001b[0m\u001b[0;34m.\u001b[0m\u001b[0mappend\u001b[0m\u001b[0;34m(\u001b[0m\u001b[0mlist2\u001b[0m\u001b[0;34m[\u001b[0m\u001b[0;36m0\u001b[0m\u001b[0;34m]\u001b[0m\u001b[0;34m)\u001b[0m\u001b[0;34m\u001b[0m\u001b[0;34m\u001b[0m\u001b[0m\n\u001b[0;32m---> 14\u001b[0;31m         \u001b[0;32mreturn\u001b[0m \u001b[0malist\u001b[0m \u001b[0;34m+\u001b[0m \u001b[0minterlace\u001b[0m\u001b[0;34m(\u001b[0m\u001b[0mlist1\u001b[0m\u001b[0;34m,\u001b[0m \u001b[0mlist2\u001b[0m\u001b[0;34m[\u001b[0m\u001b[0;36m1\u001b[0m\u001b[0;34m:\u001b[0m\u001b[0;34m]\u001b[0m\u001b[0;34m)\u001b[0m\u001b[0;34m\u001b[0m\u001b[0;34m\u001b[0m\u001b[0m\n\u001b[0m",
      "\u001b[0;32m/tmp/ipykernel_178603/1589338801.py\u001b[0m in \u001b[0;36minterlace\u001b[0;34m(list1, list2)\u001b[0m\n\u001b[1;32m      9\u001b[0m     \u001b[0;32melif\u001b[0m \u001b[0mlist1\u001b[0m\u001b[0;34m[\u001b[0m\u001b[0;36m0\u001b[0m\u001b[0;34m]\u001b[0m \u001b[0;34m<\u001b[0m \u001b[0mlist2\u001b[0m\u001b[0;34m[\u001b[0m\u001b[0;36m0\u001b[0m\u001b[0;34m]\u001b[0m\u001b[0;34m:\u001b[0m\u001b[0;34m\u001b[0m\u001b[0;34m\u001b[0m\u001b[0m\n\u001b[1;32m     10\u001b[0m         \u001b[0malist\u001b[0m\u001b[0;34m.\u001b[0m\u001b[0mappend\u001b[0m\u001b[0;34m(\u001b[0m\u001b[0mlist1\u001b[0m\u001b[0;34m[\u001b[0m\u001b[0;36m0\u001b[0m\u001b[0;34m]\u001b[0m\u001b[0;34m)\u001b[0m\u001b[0;34m\u001b[0m\u001b[0;34m\u001b[0m\u001b[0m\n\u001b[0;32m---> 11\u001b[0;31m         \u001b[0;32mreturn\u001b[0m \u001b[0malist\u001b[0m \u001b[0;34m+\u001b[0m \u001b[0minterlace\u001b[0m\u001b[0;34m(\u001b[0m\u001b[0mlist1\u001b[0m\u001b[0;34m[\u001b[0m\u001b[0;36m1\u001b[0m\u001b[0;34m:\u001b[0m\u001b[0;34m]\u001b[0m\u001b[0;34m,\u001b[0m \u001b[0mlist2\u001b[0m\u001b[0;34m)\u001b[0m\u001b[0;34m\u001b[0m\u001b[0;34m\u001b[0m\u001b[0m\n\u001b[0m\u001b[1;32m     12\u001b[0m     \u001b[0;32melse\u001b[0m\u001b[0;34m:\u001b[0m\u001b[0;34m\u001b[0m\u001b[0;34m\u001b[0m\u001b[0m\n\u001b[1;32m     13\u001b[0m         \u001b[0malist\u001b[0m\u001b[0;34m.\u001b[0m\u001b[0mappend\u001b[0m\u001b[0;34m(\u001b[0m\u001b[0mlist2\u001b[0m\u001b[0;34m[\u001b[0m\u001b[0;36m0\u001b[0m\u001b[0;34m]\u001b[0m\u001b[0;34m)\u001b[0m\u001b[0;34m\u001b[0m\u001b[0;34m\u001b[0m\u001b[0m\n",
      "\u001b[0;32m/tmp/ipykernel_178603/1589338801.py\u001b[0m in \u001b[0;36minterlace\u001b[0;34m(list1, list2)\u001b[0m\n\u001b[1;32m      9\u001b[0m     \u001b[0;32melif\u001b[0m \u001b[0mlist1\u001b[0m\u001b[0;34m[\u001b[0m\u001b[0;36m0\u001b[0m\u001b[0;34m]\u001b[0m \u001b[0;34m<\u001b[0m \u001b[0mlist2\u001b[0m\u001b[0;34m[\u001b[0m\u001b[0;36m0\u001b[0m\u001b[0;34m]\u001b[0m\u001b[0;34m:\u001b[0m\u001b[0;34m\u001b[0m\u001b[0;34m\u001b[0m\u001b[0m\n\u001b[1;32m     10\u001b[0m         \u001b[0malist\u001b[0m\u001b[0;34m.\u001b[0m\u001b[0mappend\u001b[0m\u001b[0;34m(\u001b[0m\u001b[0mlist1\u001b[0m\u001b[0;34m[\u001b[0m\u001b[0;36m0\u001b[0m\u001b[0;34m]\u001b[0m\u001b[0;34m)\u001b[0m\u001b[0;34m\u001b[0m\u001b[0;34m\u001b[0m\u001b[0m\n\u001b[0;32m---> 11\u001b[0;31m         \u001b[0;32mreturn\u001b[0m \u001b[0malist\u001b[0m \u001b[0;34m+\u001b[0m \u001b[0minterlace\u001b[0m\u001b[0;34m(\u001b[0m\u001b[0mlist1\u001b[0m\u001b[0;34m[\u001b[0m\u001b[0;36m1\u001b[0m\u001b[0;34m:\u001b[0m\u001b[0;34m]\u001b[0m\u001b[0;34m,\u001b[0m \u001b[0mlist2\u001b[0m\u001b[0;34m)\u001b[0m\u001b[0;34m\u001b[0m\u001b[0;34m\u001b[0m\u001b[0m\n\u001b[0m\u001b[1;32m     12\u001b[0m     \u001b[0;32melse\u001b[0m\u001b[0;34m:\u001b[0m\u001b[0;34m\u001b[0m\u001b[0;34m\u001b[0m\u001b[0m\n\u001b[1;32m     13\u001b[0m         \u001b[0malist\u001b[0m\u001b[0;34m.\u001b[0m\u001b[0mappend\u001b[0m\u001b[0;34m(\u001b[0m\u001b[0mlist2\u001b[0m\u001b[0;34m[\u001b[0m\u001b[0;36m0\u001b[0m\u001b[0;34m]\u001b[0m\u001b[0;34m)\u001b[0m\u001b[0;34m\u001b[0m\u001b[0;34m\u001b[0m\u001b[0m\n",
      "\u001b[0;32m/tmp/ipykernel_178603/1589338801.py\u001b[0m in \u001b[0;36minterlace\u001b[0;34m(list1, list2)\u001b[0m\n\u001b[1;32m      9\u001b[0m     \u001b[0;32melif\u001b[0m \u001b[0mlist1\u001b[0m\u001b[0;34m[\u001b[0m\u001b[0;36m0\u001b[0m\u001b[0;34m]\u001b[0m \u001b[0;34m<\u001b[0m \u001b[0mlist2\u001b[0m\u001b[0;34m[\u001b[0m\u001b[0;36m0\u001b[0m\u001b[0;34m]\u001b[0m\u001b[0;34m:\u001b[0m\u001b[0;34m\u001b[0m\u001b[0;34m\u001b[0m\u001b[0m\n\u001b[1;32m     10\u001b[0m         \u001b[0malist\u001b[0m\u001b[0;34m.\u001b[0m\u001b[0mappend\u001b[0m\u001b[0;34m(\u001b[0m\u001b[0mlist1\u001b[0m\u001b[0;34m[\u001b[0m\u001b[0;36m0\u001b[0m\u001b[0;34m]\u001b[0m\u001b[0;34m)\u001b[0m\u001b[0;34m\u001b[0m\u001b[0;34m\u001b[0m\u001b[0m\n\u001b[0;32m---> 11\u001b[0;31m         \u001b[0;32mreturn\u001b[0m \u001b[0malist\u001b[0m \u001b[0;34m+\u001b[0m \u001b[0minterlace\u001b[0m\u001b[0;34m(\u001b[0m\u001b[0mlist1\u001b[0m\u001b[0;34m[\u001b[0m\u001b[0;36m1\u001b[0m\u001b[0;34m:\u001b[0m\u001b[0;34m]\u001b[0m\u001b[0;34m,\u001b[0m \u001b[0mlist2\u001b[0m\u001b[0;34m)\u001b[0m\u001b[0;34m\u001b[0m\u001b[0;34m\u001b[0m\u001b[0m\n\u001b[0m\u001b[1;32m     12\u001b[0m     \u001b[0;32melse\u001b[0m\u001b[0;34m:\u001b[0m\u001b[0;34m\u001b[0m\u001b[0;34m\u001b[0m\u001b[0m\n\u001b[1;32m     13\u001b[0m         \u001b[0malist\u001b[0m\u001b[0;34m.\u001b[0m\u001b[0mappend\u001b[0m\u001b[0;34m(\u001b[0m\u001b[0mlist2\u001b[0m\u001b[0;34m[\u001b[0m\u001b[0;36m0\u001b[0m\u001b[0;34m]\u001b[0m\u001b[0;34m)\u001b[0m\u001b[0;34m\u001b[0m\u001b[0;34m\u001b[0m\u001b[0m\n",
      "\u001b[0;32m/tmp/ipykernel_178603/1589338801.py\u001b[0m in \u001b[0;36minterlace\u001b[0;34m(list1, list2)\u001b[0m\n\u001b[1;32m     12\u001b[0m     \u001b[0;32melse\u001b[0m\u001b[0;34m:\u001b[0m\u001b[0;34m\u001b[0m\u001b[0;34m\u001b[0m\u001b[0m\n\u001b[1;32m     13\u001b[0m         \u001b[0malist\u001b[0m\u001b[0;34m.\u001b[0m\u001b[0mappend\u001b[0m\u001b[0;34m(\u001b[0m\u001b[0mlist2\u001b[0m\u001b[0;34m[\u001b[0m\u001b[0;36m0\u001b[0m\u001b[0;34m]\u001b[0m\u001b[0;34m)\u001b[0m\u001b[0;34m\u001b[0m\u001b[0;34m\u001b[0m\u001b[0m\n\u001b[0;32m---> 14\u001b[0;31m         \u001b[0;32mreturn\u001b[0m \u001b[0malist\u001b[0m \u001b[0;34m+\u001b[0m \u001b[0minterlace\u001b[0m\u001b[0;34m(\u001b[0m\u001b[0mlist1\u001b[0m\u001b[0;34m,\u001b[0m \u001b[0mlist2\u001b[0m\u001b[0;34m[\u001b[0m\u001b[0;36m1\u001b[0m\u001b[0;34m:\u001b[0m\u001b[0;34m]\u001b[0m\u001b[0;34m)\u001b[0m\u001b[0;34m\u001b[0m\u001b[0;34m\u001b[0m\u001b[0m\n\u001b[0m",
      "... last 11 frames repeated, from the frame below ...\n",
      "\u001b[0;32m/tmp/ipykernel_178603/1589338801.py\u001b[0m in \u001b[0;36minterlace\u001b[0;34m(list1, list2)\u001b[0m\n\u001b[1;32m     12\u001b[0m     \u001b[0;32melse\u001b[0m\u001b[0;34m:\u001b[0m\u001b[0;34m\u001b[0m\u001b[0;34m\u001b[0m\u001b[0m\n\u001b[1;32m     13\u001b[0m         \u001b[0malist\u001b[0m\u001b[0;34m.\u001b[0m\u001b[0mappend\u001b[0m\u001b[0;34m(\u001b[0m\u001b[0mlist2\u001b[0m\u001b[0;34m[\u001b[0m\u001b[0;36m0\u001b[0m\u001b[0;34m]\u001b[0m\u001b[0;34m)\u001b[0m\u001b[0;34m\u001b[0m\u001b[0;34m\u001b[0m\u001b[0m\n\u001b[0;32m---> 14\u001b[0;31m         \u001b[0;32mreturn\u001b[0m \u001b[0malist\u001b[0m \u001b[0;34m+\u001b[0m \u001b[0minterlace\u001b[0m\u001b[0;34m(\u001b[0m\u001b[0mlist1\u001b[0m\u001b[0;34m,\u001b[0m \u001b[0mlist2\u001b[0m\u001b[0;34m[\u001b[0m\u001b[0;36m1\u001b[0m\u001b[0;34m:\u001b[0m\u001b[0;34m]\u001b[0m\u001b[0;34m)\u001b[0m\u001b[0;34m\u001b[0m\u001b[0;34m\u001b[0m\u001b[0m\n\u001b[0m",
      "\u001b[0;31mRecursionError\u001b[0m: maximum recursion depth exceeded while calling a Python object"
     ]
    }
   ],
   "source": [
    "A = random.sample(range(1,np.power(2,14)),np.power(2,13))\n",
    "mergeSort(A)"
   ]
  },
  {
   "cell_type": "markdown",
   "id": "3476bc1d-0fa6-4253-b99b-0ffadb52515f",
   "metadata": {},
   "source": [
    "Uh oh, maximum recursion depth exceeded, that won't do."
   ]
  },
  {
   "cell_type": "markdown",
   "id": "eb2ead21-7c52-4e83-b451-6d753293102b",
   "metadata": {},
   "source": [
    "## Task 3 - Fixing Mergesort (test on non int)"
   ]
  },
  {
   "cell_type": "markdown",
   "id": "877654b5-fe76-44dd-adef-f68276891104",
   "metadata": {},
   "source": [
    "The first step is going to be to adapt the code to run on numpy arrays since apparently (source: Oscar) these are faster than python lists. "
   ]
  },
  {
   "cell_type": "code",
   "execution_count": 327,
   "id": "29d468b7-f443-403e-beb5-ceb97ebfc988",
   "metadata": {},
   "outputs": [],
   "source": [
    "# This takes as inputs sorted numpy arrays and outputs their merged array. The\n",
    "# arrays are to consist of real numbers which may be represented by integers or\n",
    "# floats\n",
    "\n",
    "def merge(l1,l2): # The new and improved interlace function\n",
    "    \n",
    "    # For ease of implementation we want l2 to contain our largest element\n",
    "    if np.max(l1)>np.max(l2):\n",
    "        l1, l2 = l2, l1\n",
    "\n",
    "    # We initialise alist for speed\n",
    "    alist = np.zeros(len(l1)+len(l2))\n",
    "    # We will use a counter to keep track of what index of alist to assign to\n",
    "    C = 0\n",
    "    # It will be easier if we can rewrite the already assigned elements of l1\n",
    "    # to be larger than the biggest element in l2 so they do not get reassigned\n",
    "    big = np.max(l2) + 1\n",
    "\n",
    "    for k in l2:\n",
    "        # We introduce a new temporary counter for the number of elements of l1\n",
    "        # less than or equal to the current element of l2, this is where \n",
    "        # rewriting l1 using'big' helps\n",
    "        c = np.sum(l1<=k)\n",
    "        # if c>0 we assign those elements to alist\n",
    "        if c>0:\n",
    "            alist[C:C+c] = l1[l1<=k]\n",
    "            l1[l1<=k] = big\n",
    "        # We update C\n",
    "        C = C + c\n",
    "        # We add the element of l2\n",
    "        alist[C] = k\n",
    "        # And update C again\n",
    "        C = C + 1\n",
    "\n",
    "    return alist"
   ]
  },
  {
   "cell_type": "code",
   "execution_count": 328,
   "id": "465beda4-0f0e-4e25-b265-332ab4dbadd6",
   "metadata": {},
   "outputs": [],
   "source": [
    "# Takes a numpy array of real numbers (as integers or floats) and sorts them. \n",
    "# It can sort a list of 2^17 elements in around 15s\n",
    "\n",
    "def mergesort(l): # The new and improved merge sort (notice lowercase s)\n",
    "    n=len(l)\n",
    "    if n == 1:\n",
    "        return l # an array of length 1 is already sorted\n",
    "    else:\n",
    "        m=n//2\n",
    "    return merge(mergesort(l[0:m]), mergesort(l[m:n]))"
   ]
  },
  {
   "cell_type": "code",
   "execution_count": 337,
   "id": "2cbc04ec-e1af-4947-9648-49beb7422682",
   "metadata": {},
   "outputs": [
    {
     "data": {
      "text/plain": [
       "array([0.00000e+00, 1.00000e+00, 4.00000e+00, ..., 2.62137e+05,\n",
       "       2.62138e+05, 2.62140e+05])"
      ]
     },
     "execution_count": 337,
     "metadata": {},
     "output_type": "execute_result"
    }
   ],
   "source": [
    "l = np.random.randint(np.power(2,18),size = (np.power(2,17)))\n",
    "# print(np.sort(l))\n",
    "mergesort(l)\n",
    "\n"
   ]
  },
  {
   "cell_type": "markdown",
   "id": "7c50f36e-d031-4955-bc39-fd0c556b3c33",
   "metadata": {},
   "source": [
    "## Task 4 - Runtime"
   ]
  },
  {
   "cell_type": "code",
   "execution_count": null,
   "id": "ac7444ff-2899-46f8-a3e0-e14e60a012da",
   "metadata": {},
   "outputs": [],
   "source": [
    "for pows in range(20):\n",
    "    "
   ]
  }
 ],
 "metadata": {
  "kernelspec": {
   "display_name": "Python 3 (ipykernel)",
   "language": "python",
   "name": "python3"
  },
  "language_info": {
   "codemirror_mode": {
    "name": "ipython",
    "version": 3
   },
   "file_extension": ".py",
   "mimetype": "text/x-python",
   "name": "python",
   "nbconvert_exporter": "python",
   "pygments_lexer": "ipython3",
   "version": "3.7.13"
  }
 },
 "nbformat": 4,
 "nbformat_minor": 5
}
